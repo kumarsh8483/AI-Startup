{
  "nbformat": 4,
  "nbformat_minor": 0,
  "metadata": {
    "colab": {
      "name": "Fraud_Detection.ipynb",
      "version": "0.3.2",
      "provenance": [],
      "toc_visible": true,
      "include_colab_link": true
    },
    "kernelspec": {
      "name": "python3",
      "display_name": "Python 3"
    }
  },
  "cells": [
    {
      "cell_type": "markdown",
      "metadata": {
        "id": "view-in-github",
        "colab_type": "text"
      },
      "source": [
        "<a href=\"https://colab.research.google.com/github/kumarsh8483/AI-Startup/blob/master/Fraud_Detection.ipynb\" target=\"_parent\"><img src=\"https://colab.research.google.com/assets/colab-badge.svg\" alt=\"Open In Colab\"/></a>"
      ]
    },
    {
      "cell_type": "code",
      "metadata": {
        "id": "vGAQwHMeIvn-",
        "colab_type": "code",
        "colab": {}
      },
      "source": [
        "import numpy as np\n",
        "import sklearn as sk\n",
        "import pandas as pd\n",
        "import matplotlib.pyplot as plt\n",
        "from sklearn.preprocessing import scale\n",
        "import random as rd\n",
        "df = pd.read_csv('creditcard.csv', low_memory ='False')\n",
        "\n",
        "df = df.sample(frac=1).reset_index (drop=True)\n",
        "fraud = df.loc[df['Class'] == 1]\n",
        "nonfraud = df.loc[df['Class'] == 0]\n",
        "\n",
        "ax=fraud.plot.scatter(x='Amount', y ='Class', color ='Orange', label = 'Fraud')\n",
        "nonfraud.plot.scatter(x='Amount', y ='Class', color ='Green', label ='Nonfraud',ax=ax)\n",
        "plt.show()\n",
        "\n",
        "\n",
        "\n"
      ],
      "execution_count": 0,
      "outputs": []
    },
    {
      "cell_type": "code",
      "metadata": {
        "id": "m9upLqh8uXH4",
        "colab_type": "code",
        "colab": {}
      },
      "source": [
        "from sklearn import linear_model\n",
        "from sklearn.model_selection import train_test_split\n",
        "\n",
        "x=df.iloc[:,:-1]\n",
        "y = df['Class']\n",
        "\n",
        "x_train,x_test,y_train,y_test = train_test_split (x,y,test_size = 0.35)"
      ],
      "execution_count": 0,
      "outputs": []
    },
    {
      "cell_type": "code",
      "metadata": {
        "id": "pf_XDAbyvqoP",
        "colab_type": "code",
        "colab": {
          "base_uri": "https://localhost:8080/",
          "height": 105
        },
        "outputId": "a5f2f08c-5c3e-4252-b10c-c74ed99b4203"
      },
      "source": [
        "logistic = linear_model.LogisticRegression(C=1e5)\n",
        "logistic.fit(x_train,y_train)\n",
        "print('Score:' , logistic.score (x_test,y_test))\n",
        "\n",
        "y_predicted = np.array(logistic.predict (x_test))\n",
        "print(y_predicted)"
      ],
      "execution_count": 23,
      "outputs": [
        {
          "output_type": "stream",
          "text": [
            "/usr/local/lib/python3.6/dist-packages/sklearn/linear_model/logistic.py:432: FutureWarning: Default solver will be changed to 'lbfgs' in 0.22. Specify a solver to silence this warning.\n",
            "  FutureWarning)\n"
          ],
          "name": "stderr"
        },
        {
          "output_type": "stream",
          "text": [
            "Score: 0.9988363111062066\n",
            "[0 0 0 ... 0 0 0]\n"
          ],
          "name": "stdout"
        }
      ]
    },
    {
      "cell_type": "code",
      "metadata": {
        "id": "RxPjh-2cwYEA",
        "colab_type": "code",
        "colab": {}
      },
      "source": [
        ""
      ],
      "execution_count": 0,
      "outputs": []
    },
    {
      "cell_type": "markdown",
      "metadata": {
        "id": "ToeyBG2mJWhh",
        "colab_type": "text"
      },
      "source": [
        "***Fraud Detection from Kaggle competition\n",
        "\n",
        "1.   Scale is a normalization library\n",
        "2. PCA - Pricniple component analysis for dimensions reduction\n",
        "2.   List item\n",
        "\n"
      ]
    }
  ]
}